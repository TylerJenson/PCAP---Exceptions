{
 "cells": [
  {
   "cell_type": "code",
   "execution_count": 1,
   "id": "b401d22d",
   "metadata": {},
   "outputs": [],
   "source": [
    "# Exception Hierarchy\n",
    "    # Python has 60 built in exception types\n",
    "    \n",
    "#### TOP of Hierarchy ####\n",
    "\n",
    "\n",
    "# BaseException (won't see this exception raised - template for other exceptions - called  'abstract / constructive exceptions')\n",
    "\n",
    "    # Exception , SystemExit , KeyboardInterrupt\n",
    "#        ^\n",
    "#        |--->  ArithmeticError , LookupError , TypeError , ValueError\n",
    "#                   ^                  ^\n",
    "#                   |---> ZeroDivisionError\n",
    "#                                      |\n",
    "#                                      ---> IndexError , KeyError\n",
    "\n",
    "    \n",
    "#### BOTTOM of Hierarchy ####\n",
    "\n",
    "\n",
    "### EXPLANATIONS\n",
    "\n",
    "# SystemExit --> when we call a special method (sys.exit), used to terminate your program\n",
    "\n",
    "# KeyboardInterrupt --> when the user/programmer presses the ctrl – c or del key either accidentally or intentionally\n",
    "\n",
    "# Exception --> similar to 'BaseException', serves as a template; the difference is 'Exception' is used for both\n",
    "    # internal exceptions and your own exceptions (BaseException is just for internal exceptions)\n",
    "    \n",
    "# ZeroDivisionError --> occurs in Python when a number is attempted to be divided by zero\n",
    "\n",
    "# IndexError --> occurs when an attempt is made to access an item in a list/dictionary at an index which is out of bounds\n",
    "\n",
    "# KeyError --> occurs when an attempt is made to access an item in a dictionary that does not exist.\n",
    "\n",
    "# TypeError --> occurs when you use different data types in an operation\n",
    "\n",
    "# ValueError --> occurs when a function receives an argument of the correct data type but an inappropriate value\n",
    "\n",
    "### Note\n",
    "    # in Python it uses the more specific / lower hierarchy of error when it is presented\n",
    "        # example; 15 / 0 will be shown as a 'ZeroDivisionError', not an 'ArithmeticError'"
   ]
  },
  {
   "cell_type": "code",
   "execution_count": 3,
   "id": "929404bf",
   "metadata": {},
   "outputs": [
    {
     "name": "stdout",
     "output_type": "stream",
     "text": [
      "what is your name? \n",
      "empty name? I cant work with that, I am closing the program. Bye.\n"
     ]
    },
    {
     "ename": "SystemExit",
     "evalue": "",
     "output_type": "error",
     "traceback": [
      "An exception has occurred, use %tb to see the full traceback.\n",
      "\u001b[1;31mSystemExit\u001b[0m\n"
     ]
    },
    {
     "name": "stderr",
     "output_type": "stream",
     "text": [
      "C:\\Users\\Tyler\\anaconda3\\lib\\site-packages\\IPython\\core\\interactiveshell.py:3468: UserWarning: To exit: use 'exit', 'quit', or Ctrl-D.\n",
      "  warn(\"To exit: use 'exit', 'quit', or Ctrl-D.\", stacklevel=1)\n"
     ]
    }
   ],
   "source": [
    "# SystemExit example; sys.exit\n",
    "\n",
    "import sys\n",
    "\n",
    "user_name = input('what is your name? ')\n",
    "if user_name == '':\n",
    "    print('empty name? I cant work with that, I am closing the program. Bye.')\n",
    "    sys.exit()\n",
    "print('Hello,', user_name)\n",
    "print('lets get started')"
   ]
  },
  {
   "cell_type": "code",
   "execution_count": 2,
   "id": "d09b9e60",
   "metadata": {},
   "outputs": [],
   "source": [
    "# KeyboardInterrupt example\n",
    "\n",
    "# while True:\n",
    "    # print('hi')\n",
    "\n",
    "    \n",
    "# would do a infinite loop : could press the 'stop kernel' button, ctrl - c, del"
   ]
  },
  {
   "cell_type": "code",
   "execution_count": 3,
   "id": "93a4538a",
   "metadata": {},
   "outputs": [
    {
     "ename": "IndexError",
     "evalue": "list index out of range",
     "output_type": "error",
     "traceback": [
      "\u001b[1;31m---------------------------------------------------------------------------\u001b[0m",
      "\u001b[1;31mIndexError\u001b[0m                                Traceback (most recent call last)",
      "Cell \u001b[1;32mIn[3], line 4\u001b[0m\n\u001b[0;32m      1\u001b[0m \u001b[38;5;66;03m# IndexError example\u001b[39;00m\n\u001b[0;32m      3\u001b[0m programming_languages \u001b[38;5;241m=\u001b[39m [\u001b[38;5;124m'\u001b[39m\u001b[38;5;124mJava\u001b[39m\u001b[38;5;124m'\u001b[39m,\u001b[38;5;124m'\u001b[39m\u001b[38;5;124mPython\u001b[39m\u001b[38;5;124m'\u001b[39m,\u001b[38;5;124m'\u001b[39m\u001b[38;5;124mC++\u001b[39m\u001b[38;5;124m'\u001b[39m]\n\u001b[1;32m----> 4\u001b[0m \u001b[38;5;28mprint\u001b[39m(\u001b[43mprogramming_languages\u001b[49m\u001b[43m[\u001b[49m\u001b[38;5;241;43m10\u001b[39;49m\u001b[43m]\u001b[49m)\n",
      "\u001b[1;31mIndexError\u001b[0m: list index out of range"
     ]
    }
   ],
   "source": [
    "# IndexError example (Type of LookupError)\n",
    "\n",
    "programming_languages = ['Java','Python','C++']\n",
    "print(programming_languages[10])"
   ]
  },
  {
   "cell_type": "code",
   "execution_count": 4,
   "id": "97d60584",
   "metadata": {},
   "outputs": [
    {
     "ename": "KeyError",
     "evalue": "'Michael'",
     "output_type": "error",
     "traceback": [
      "\u001b[1;31m---------------------------------------------------------------------------\u001b[0m",
      "\u001b[1;31mKeyError\u001b[0m                                  Traceback (most recent call last)",
      "Cell \u001b[1;32mIn[4], line 5\u001b[0m\n\u001b[0;32m      1\u001b[0m \u001b[38;5;66;03m# KeyError example\u001b[39;00m\n\u001b[0;32m      3\u001b[0m ages \u001b[38;5;241m=\u001b[39m {\u001b[38;5;124m'\u001b[39m\u001b[38;5;124mJim\u001b[39m\u001b[38;5;124m'\u001b[39m:\u001b[38;5;241m30\u001b[39m, \u001b[38;5;124m'\u001b[39m\u001b[38;5;124mPam\u001b[39m\u001b[38;5;124m'\u001b[39m:\u001b[38;5;241m28\u001b[39m, \u001b[38;5;124m'\u001b[39m\u001b[38;5;124mKevin\u001b[39m\u001b[38;5;124m'\u001b[39m:\u001b[38;5;241m33\u001b[39m}\n\u001b[1;32m----> 5\u001b[0m \u001b[43mages\u001b[49m\u001b[43m[\u001b[49m\u001b[38;5;124;43m'\u001b[39;49m\u001b[38;5;124;43mMichael\u001b[39;49m\u001b[38;5;124;43m'\u001b[39;49m\u001b[43m]\u001b[49m\n",
      "\u001b[1;31mKeyError\u001b[0m: 'Michael'"
     ]
    }
   ],
   "source": [
    "# KeyError example (Type of LookupError)\n",
    "\n",
    "ages = {'Jim':30, 'Pam':28, 'Kevin':33}\n",
    "\n",
    "ages['Michael']"
   ]
  },
  {
   "cell_type": "code",
   "execution_count": 6,
   "id": "02545f72",
   "metadata": {},
   "outputs": [
    {
     "name": "stdout",
     "output_type": "stream",
     "text": [
      "What is your age? 29\n"
     ]
    },
    {
     "ename": "TypeError",
     "evalue": "can only concatenate str (not \"int\") to str",
     "output_type": "error",
     "traceback": [
      "\u001b[1;31m---------------------------------------------------------------------------\u001b[0m",
      "\u001b[1;31mTypeError\u001b[0m                                 Traceback (most recent call last)",
      "Cell \u001b[1;32mIn[6], line 4\u001b[0m\n\u001b[0;32m      1\u001b[0m \u001b[38;5;66;03m# TypeError Example\u001b[39;00m\n\u001b[0;32m      3\u001b[0m age \u001b[38;5;241m=\u001b[39m \u001b[38;5;28minput\u001b[39m(\u001b[38;5;124m'\u001b[39m\u001b[38;5;124mWhat is your age? \u001b[39m\u001b[38;5;124m'\u001b[39m)           \u001b[38;5;66;03m# REVIEW: input function --> returns a string\u001b[39;00m\n\u001b[1;32m----> 4\u001b[0m \u001b[38;5;28mprint\u001b[39m(\u001b[38;5;124m'\u001b[39m\u001b[38;5;124min 10 years, you will be\u001b[39m\u001b[38;5;124m'\u001b[39m, \u001b[43mage\u001b[49m\u001b[43m \u001b[49m\u001b[38;5;241;43m+\u001b[39;49m\u001b[43m \u001b[49m\u001b[38;5;241;43m10\u001b[39;49m)\n",
      "\u001b[1;31mTypeError\u001b[0m: can only concatenate str (not \"int\") to str"
     ]
    }
   ],
   "source": [
    "# TypeError Example\n",
    "\n",
    "age = input('What is your age? ')           # REVIEW: input function --> returns a string\n",
    "print('in 10 years, you will be', age + 10) # in this case, we will be adding a string & integer which will not work"
   ]
  },
  {
   "cell_type": "code",
   "execution_count": 7,
   "id": "18ce7822",
   "metadata": {},
   "outputs": [
    {
     "name": "stdout",
     "output_type": "stream",
     "text": [
      "What is your age? a\n"
     ]
    },
    {
     "ename": "ValueError",
     "evalue": "invalid literal for int() with base 10: 'a'",
     "output_type": "error",
     "traceback": [
      "\u001b[1;31m---------------------------------------------------------------------------\u001b[0m",
      "\u001b[1;31mValueError\u001b[0m                                Traceback (most recent call last)",
      "Cell \u001b[1;32mIn[7], line 3\u001b[0m\n\u001b[0;32m      1\u001b[0m \u001b[38;5;66;03m# ValueError Example\u001b[39;00m\n\u001b[1;32m----> 3\u001b[0m age \u001b[38;5;241m=\u001b[39m \u001b[38;5;28;43mint\u001b[39;49m\u001b[43m(\u001b[49m\u001b[38;5;28;43minput\u001b[39;49m\u001b[43m(\u001b[49m\u001b[38;5;124;43m'\u001b[39;49m\u001b[38;5;124;43mWhat is your age? \u001b[39;49m\u001b[38;5;124;43m'\u001b[39;49m\u001b[43m)\u001b[49m\u001b[43m)\u001b[49m\n",
      "\u001b[1;31mValueError\u001b[0m: invalid literal for int() with base 10: 'a'"
     ]
    }
   ],
   "source": [
    "# ValueError Example\n",
    "\n",
    "age = int(input('What is your age? '))\n",
    "\n",
    "# it is the correct data type, but 'a' isn't an integer value; resulting in the ValueError"
   ]
  },
  {
   "cell_type": "code",
   "execution_count": null,
   "id": "835a3a2b",
   "metadata": {},
   "outputs": [],
   "source": []
  }
 ],
 "metadata": {
  "kernelspec": {
   "display_name": "Python 3 (ipykernel)",
   "language": "python",
   "name": "python3"
  },
  "language_info": {
   "codemirror_mode": {
    "name": "ipython",
    "version": 3
   },
   "file_extension": ".py",
   "mimetype": "text/x-python",
   "name": "python",
   "nbconvert_exporter": "python",
   "pygments_lexer": "ipython3",
   "version": "3.10.9"
  }
 },
 "nbformat": 4,
 "nbformat_minor": 5
}
