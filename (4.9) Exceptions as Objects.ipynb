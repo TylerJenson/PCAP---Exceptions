{
 "cells": [
  {
   "cell_type": "code",
   "execution_count": 1,
   "id": "426839da",
   "metadata": {},
   "outputs": [],
   "source": [
    "# Exceptions in Python are, objects\n",
    "    # whenever an exception is raised in Python, an object of the given exception class is created and it goes through\n",
    "        # all the branches of the try-except block to try and find a matching branch"
   ]
  },
  {
   "cell_type": "code",
   "execution_count": 2,
   "id": "54bb5603",
   "metadata": {},
   "outputs": [],
   "source": [
    "# 'as' keyword example\n",
    "    # used to get additional information on the exception object\n",
    "    \n",
    "def return_bigger(a, b):\n",
    "    try:\n",
    "        if b > a:\n",
    "            return b\n",
    "        else:\n",
    "            return a\n",
    "    except Exception as e:        # using 'as' keyword, you can also use an ID different than 'e'\n",
    "        print(e)\n",
    "        return None"
   ]
  },
  {
   "cell_type": "code",
   "execution_count": 3,
   "id": "05a13d74",
   "metadata": {},
   "outputs": [
    {
     "name": "stdout",
     "output_type": "stream",
     "text": [
      "'>' not supported between instances of 'str' and 'int'\n",
      "None\n"
     ]
    }
   ],
   "source": [
    "print(return_bigger(5,'b'))\n",
    "\n",
    "# the first line of output --> is from print(e) -- where we get a detailed statement of the exception 'e'"
   ]
  },
  {
   "cell_type": "code",
   "execution_count": 4,
   "id": "c622e8cb",
   "metadata": {},
   "outputs": [
    {
     "name": "stdout",
     "output_type": "stream",
     "text": [
      "Exception\n",
      "GeneratorExit\n",
      "SystemExit\n",
      "KeyboardInterrupt\n",
      "CancelledError\n",
      "DebuggerInitializationError\n",
      "AbortThread\n"
     ]
    }
   ],
   "source": [
    "# class heirarchy, exceptions\n",
    "\n",
    "for subclass in BaseException.__subclasses__():\n",
    "    print(subclass.__name__)\n",
    "    \n",
    "# these are all subclass of the BaseException"
   ]
  },
  {
   "cell_type": "code",
   "execution_count": 5,
   "id": "b8a9518a",
   "metadata": {},
   "outputs": [
    {
     "name": "stdout",
     "output_type": "stream",
     "text": [
      "TypeError\n",
      "StopAsyncIteration\n",
      "StopIteration\n",
      "ImportError\n",
      "OSError\n",
      "EOFError\n",
      "RuntimeError\n",
      "NameError\n",
      "AttributeError\n",
      "SyntaxError\n",
      "LookupError\n",
      "ValueError\n",
      "AssertionError\n",
      "ArithmeticError\n",
      "SystemError\n",
      "ReferenceError\n",
      "MemoryError\n",
      "BufferError\n",
      "Warning\n",
      "_OptionError\n",
      "_Error\n",
      "error\n",
      "Verbose\n",
      "Error\n",
      "SubprocessError\n",
      "TokenError\n",
      "StopTokenizing\n",
      "ClassFoundException\n",
      "EndOfBlock\n",
      "TraitError\n",
      "Error\n",
      "Error\n",
      "_GiveupOnSendfile\n",
      "error\n",
      "Incomplete\n",
      "TimeoutError\n",
      "InvalidStateError\n",
      "LimitOverrunError\n",
      "QueueEmpty\n",
      "QueueFull\n",
      "error\n",
      "LZMAError\n",
      "RegistryError\n",
      "_GiveupOnFastCopy\n",
      "Empty\n",
      "Full\n",
      "ZMQBaseError\n",
      "PickleError\n",
      "_Stop\n",
      "ArgumentError\n",
      "ArgumentTypeError\n",
      "ConfigError\n",
      "ConfigurableError\n",
      "ApplicationError\n",
      "TimeoutError\n",
      "ArgumentError\n",
      "COMError\n",
      "ReturnValueIgnoredError\n",
      "KeyReuseError\n",
      "UnknownKeyError\n",
      "LeakedCallbackError\n",
      "BadYieldError\n",
      "ReturnValueIgnoredError\n",
      "Return\n",
      "InvalidPortNumber\n",
      "NoIPAddresses\n",
      "BadZipFile\n",
      "LargeZipFile\n",
      "Error\n",
      "BadEntryPoint\n",
      "NoSuchEntryPoint\n",
      "DuplicateKernelError\n",
      "ErrorDuringImport\n",
      "NotOneValueFound\n",
      "CannotEval\n",
      "OptionError\n",
      "BdbQuit\n",
      "Restart\n",
      "FindCmdError\n",
      "HomeDirError\n",
      "ProfileDirError\n",
      "IPythonCoreError\n",
      "InputRejected\n",
      "GetoptError\n",
      "ErrorToken\n",
      "PrefilterError\n",
      "AliasError\n",
      "Error\n",
      "Warning\n",
      "SpaceInInput\n",
      "DOMException\n",
      "ValidationError\n",
      "EditReadOnlyBuffer\n",
      "_Retry\n",
      "InvalidLayoutError\n",
      "HeightIsUnknownError\n",
      "GuardRejection\n",
      "ParserSyntaxError\n",
      "InternalParseError\n",
      "_PositionUpdatingFinished\n",
      "SimpleGetItemNotFound\n",
      "UncaughtAttributeError\n",
      "HasNoContext\n",
      "ParamIssue\n",
      "_JediError\n",
      "OnErrorLeaf\n",
      "InvalidPythonEnvironment\n",
      "MessageError\n",
      "Error\n",
      "HTTPException\n",
      "InteractivelyDefined\n",
      "KillEmbedded\n",
      "Error\n",
      "Error\n",
      "TimeoutExpired\n",
      "TimeoutAbandoned\n",
      "QueueEmpty\n",
      "QueueFull\n",
      "ExpatError\n",
      "Error\n",
      "error\n",
      "com_error\n",
      "internal_error\n",
      "ParseBaseException\n",
      "RecursiveGrammarException\n",
      "ResolutionError\n",
      "UnableToResolveVariableException\n",
      "InvalidTypeInArgsException\n"
     ]
    }
   ],
   "source": [
    "# Exception class, from the BaseException subclass list\n",
    "\n",
    "for subclass in Exception.__subclasses__():\n",
    "    print(subclass.__name__)\n",
    "    \n",
    "# output --> you see that there are a lot of classes that inherit from 'Exception'"
   ]
  },
  {
   "cell_type": "code",
   "execution_count": 6,
   "id": "cdf3de79",
   "metadata": {},
   "outputs": [
    {
     "name": "stdout",
     "output_type": "stream",
     "text": [
      "()\n"
     ]
    }
   ],
   "source": [
    "# each exception class that inherits from BaseException has a property named 'args'\n",
    "    # 'args'\n",
    "        # tuple which contains all the arguments passed to the constructor\n",
    "\n",
    "try:\n",
    "    raise Exception\n",
    "except Exception as e:\n",
    "    print(e.args)\n",
    "    \n",
    "# this means no argement was passed to the class constructor"
   ]
  },
  {
   "cell_type": "code",
   "execution_count": 7,
   "id": "a4b85df3",
   "metadata": {},
   "outputs": [
    {
     "name": "stdout",
     "output_type": "stream",
     "text": [
      "('no no NO',)\n"
     ]
    }
   ],
   "source": [
    "# passing an argument to Exception\n",
    "\n",
    "try:\n",
    "    raise Exception('no no NO')         # Here we are invoking the constructor to the Exception class with one argument\n",
    "except Exception as e:\n",
    "    print(e.args)"
   ]
  },
  {
   "cell_type": "code",
   "execution_count": 8,
   "id": "ebb23d8a",
   "metadata": {},
   "outputs": [
    {
     "name": "stdout",
     "output_type": "stream",
     "text": [
      "('no no NO', 'NOOO')\n"
     ]
    }
   ],
   "source": [
    "# passing multiple arguments to Exception\n",
    "\n",
    "try:\n",
    "    raise Exception('no no NO','NOOO')         # Here we are invoking the constructor to the Exception class with two arguments\n",
    "except Exception as e:\n",
    "    print(e.args)"
   ]
  },
  {
   "cell_type": "code",
   "execution_count": 10,
   "id": "a88ce488",
   "metadata": {},
   "outputs": [
    {
     "name": "stdout",
     "output_type": "stream",
     "text": [
      "('division by zero',)\n"
     ]
    }
   ],
   "source": [
    "# example, Exception\n",
    "\n",
    "try:\n",
    "    1/0\n",
    "except Exception as e:\n",
    "    print(e.args)\n",
    "    \n",
    "# Python added a short explanation to the args tuple"
   ]
  },
  {
   "cell_type": "code",
   "execution_count": 11,
   "id": "4a611c46",
   "metadata": {},
   "outputs": [
    {
     "name": "stdout",
     "output_type": "stream",
     "text": [
      "(\"'<' not supported between instances of 'int' and 'str'\",)\n"
     ]
    }
   ],
   "source": [
    "# example, Exception\n",
    "\n",
    "try:\n",
    "    5 < 'a'\n",
    "except Exception as e:\n",
    "    print(e.args)\n",
    "    \n",
    "# much like the above example, Python puts an explanation into the args tuple"
   ]
  },
  {
   "cell_type": "code",
   "execution_count": null,
   "id": "d99e767d",
   "metadata": {},
   "outputs": [],
   "source": []
  }
 ],
 "metadata": {
  "kernelspec": {
   "display_name": "Python 3 (ipykernel)",
   "language": "python",
   "name": "python3"
  },
  "language_info": {
   "codemirror_mode": {
    "name": "ipython",
    "version": 3
   },
   "file_extension": ".py",
   "mimetype": "text/x-python",
   "name": "python",
   "nbconvert_exporter": "python",
   "pygments_lexer": "ipython3",
   "version": "3.10.9"
  }
 },
 "nbformat": 4,
 "nbformat_minor": 5
}
