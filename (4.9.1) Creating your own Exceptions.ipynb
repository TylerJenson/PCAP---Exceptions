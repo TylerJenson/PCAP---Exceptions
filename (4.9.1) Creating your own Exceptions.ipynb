{
 "cells": [
  {
   "cell_type": "code",
   "execution_count": 1,
   "id": "5e563b70",
   "metadata": {},
   "outputs": [],
   "source": [
    "# Creating exception classes\n",
    "    # much like class inheritance, the same applies with exception classes\n",
    "    # which superclass for your exception class?\n",
    "        # rule of thumb --> if you want to create an exception, that will be a special case of an exception already \n",
    "            # available in Python, use that one particular Python exception as the superclass\n",
    "            # example\n",
    "                # if you create a function that expects a specific kind of value in one of its parameters, and that value is\n",
    "                # somehow wrong, you can extend the ValueError class"
   ]
  },
  {
   "cell_type": "code",
   "execution_count": 2,
   "id": "d7746b15",
   "metadata": {},
   "outputs": [],
   "source": [
    "class AnimalValueError(ValueError):\n",
    "    pass\n",
    "\n",
    "def produce_animal_sound(animal_type):\n",
    "    if animal_type == 'DOG':\n",
    "        print('WOOF')\n",
    "    elif animal_type == 'CAT':\n",
    "        print('MEOW')\n",
    "    else:\n",
    "        raise AnimalValueError('wrong animal type')"
   ]
  },
  {
   "cell_type": "code",
   "execution_count": 3,
   "id": "837d5ed0",
   "metadata": {},
   "outputs": [
    {
     "name": "stdout",
     "output_type": "stream",
     "text": [
      "WOOF\n"
     ]
    }
   ],
   "source": [
    "produce_animal_sound('DOG')"
   ]
  },
  {
   "cell_type": "code",
   "execution_count": 4,
   "id": "519d369e",
   "metadata": {},
   "outputs": [
    {
     "ename": "AnimalValueError",
     "evalue": "wrong animal type",
     "output_type": "error",
     "traceback": [
      "\u001b[1;31m---------------------------------------------------------------------------\u001b[0m",
      "\u001b[1;31mAnimalValueError\u001b[0m                          Traceback (most recent call last)",
      "Cell \u001b[1;32mIn[4], line 1\u001b[0m\n\u001b[1;32m----> 1\u001b[0m \u001b[43mproduce_animal_sound\u001b[49m\u001b[43m(\u001b[49m\u001b[38;5;124;43m'\u001b[39;49m\u001b[38;5;124;43mPIG|\u001b[39;49m\u001b[38;5;124;43m'\u001b[39;49m\u001b[43m)\u001b[49m\n",
      "Cell \u001b[1;32mIn[2], line 10\u001b[0m, in \u001b[0;36mproduce_animal_sound\u001b[1;34m(animal_type)\u001b[0m\n\u001b[0;32m      8\u001b[0m     \u001b[38;5;28mprint\u001b[39m(\u001b[38;5;124m'\u001b[39m\u001b[38;5;124mMEOW\u001b[39m\u001b[38;5;124m'\u001b[39m)\n\u001b[0;32m      9\u001b[0m \u001b[38;5;28;01melse\u001b[39;00m:\n\u001b[1;32m---> 10\u001b[0m     \u001b[38;5;28;01mraise\u001b[39;00m AnimalValueError(\u001b[38;5;124m'\u001b[39m\u001b[38;5;124mwrong animal type\u001b[39m\u001b[38;5;124m'\u001b[39m)\n",
      "\u001b[1;31mAnimalValueError\u001b[0m: wrong animal type"
     ]
    }
   ],
   "source": [
    "produce_animal_sound('PIG')\n",
    "\n",
    "# there is nothing specific we supplied in the class, thus everything will be inherited by the ValueError class\n",
    "    # including the constructor"
   ]
  },
  {
   "cell_type": "code",
   "execution_count": 5,
   "id": "933c1beb",
   "metadata": {},
   "outputs": [],
   "source": [
    "# imagine an application for multiple users where all of the actions are done by specific people; we want to have our own \n",
    "# exception classes and we have a very specific requirement\n",
    "# the exceptions should always contain the login of the user that caused the error\n",
    "\n",
    "# below we are going to detail this, and use 'Exception' as our superclass\n",
    "\n",
    "# REVEIW\n",
    "    # __str__   --> returns readable string form of an object that can be understood by end users\n",
    "    # __name__ --> a built-in variable which evaluates to the name of the current module"
   ]
  },
  {
   "cell_type": "code",
   "execution_count": 6,
   "id": "137eef02",
   "metadata": {},
   "outputs": [
    {
     "name": "stdout",
     "output_type": "stream",
     "text": [
      "hello Adam\n",
      "UserActionException occurred. Error message: empty name, userID: DT324\n"
     ]
    }
   ],
   "source": [
    "class UserActionException(Exception):\n",
    "    def __init__(self, message='', user_id=''):\n",
    "        Exception.__init__(self)\n",
    "        self.user_id = user_id\n",
    "        self.message = message\n",
    "    def __str__(self):\n",
    "        return type(self).__name__ + ' occurred. Error message: '+self.message+', userID: ' + self.user_id\n",
    "    \n",
    "def say_hello(name, user_id):\n",
    "    if name == '':\n",
    "        raise UserActionException('empty name', user_id)\n",
    "    print('hello', name)\n",
    "    \n",
    "try:\n",
    "    say_hello('Adam', 'DT324')\n",
    "    say_hello('', 'DT324')\n",
    "except Exception as e:\n",
    "    print(e)"
   ]
  },
  {
   "cell_type": "code",
   "execution_count": 7,
   "id": "696c6600",
   "metadata": {},
   "outputs": [],
   "source": [
    "# inheriting from UserActionException to create more specific user action exception types\n",
    "\n",
    "class EmptyNameUserActionException(UserActionException):\n",
    "    def __init__(self, user_id=''):\n",
    "        UserActionException.__init__(self, 'an empty name was provided', user_id)"
   ]
  },
  {
   "cell_type": "code",
   "execution_count": 8,
   "id": "bdb6b75f",
   "metadata": {},
   "outputs": [],
   "source": [
    "def say_hello(name, user_id):\n",
    "    if name =='':\n",
    "        raise EmptyNameUserActionException(user_id)\n",
    "    print('Hello', name)"
   ]
  },
  {
   "cell_type": "code",
   "execution_count": 9,
   "id": "3cac43fb",
   "metadata": {},
   "outputs": [
    {
     "name": "stdout",
     "output_type": "stream",
     "text": [
      "Hello Adam\n",
      "EmptyNameUserActionException occurred. Error message: an empty name was provided, userID: DT324\n"
     ]
    }
   ],
   "source": [
    "# using same code as above\n",
    "\n",
    "try:\n",
    "    say_hello('Adam', 'DT324')\n",
    "    say_hello('', 'DT324')\n",
    "except Exception as e:\n",
    "    print(e)\n",
    "    \n",
    "# output --> rather than using the UserActionException, it now uses a more specific exception class "
   ]
  },
  {
   "cell_type": "code",
   "execution_count": null,
   "id": "4f5877bd",
   "metadata": {},
   "outputs": [],
   "source": []
  }
 ],
 "metadata": {
  "kernelspec": {
   "display_name": "Python 3 (ipykernel)",
   "language": "python",
   "name": "python3"
  },
  "language_info": {
   "codemirror_mode": {
    "name": "ipython",
    "version": 3
   },
   "file_extension": ".py",
   "mimetype": "text/x-python",
   "name": "python",
   "nbconvert_exporter": "python",
   "pygments_lexer": "ipython3",
   "version": "3.10.9"
  }
 },
 "nbformat": 4,
 "nbformat_minor": 5
}
