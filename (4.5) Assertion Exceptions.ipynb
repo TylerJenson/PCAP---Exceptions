{
 "cells": [
  {
   "cell_type": "code",
   "execution_count": 1,
   "id": "4180166f",
   "metadata": {},
   "outputs": [],
   "source": [
    "# raising exceptions by ourselves\n",
    "\n",
    "    # two ways; but for the PCAP you just need to learn one of them..\n",
    "        # Assertions"
   ]
  },
  {
   "cell_type": "code",
   "execution_count": 2,
   "id": "c28cd5fd",
   "metadata": {},
   "outputs": [],
   "source": [
    "# Assertions\n",
    "    # assumptions in our program that should always be True\n",
    "    \n",
    "# assertions are not a error-handling tool\n",
    "    \n",
    "# USE assertions for...\n",
    "    # debugging / testing your code\n",
    "    # documenting your code\n",
    "    \n",
    "\n",
    "# DON'T use assertions for...\n",
    "    # validating user input\n",
    "    # handle AssertionErrors in try-except blocks"
   ]
  },
  {
   "cell_type": "code",
   "execution_count": 3,
   "id": "945843fc",
   "metadata": {},
   "outputs": [
    {
     "data": {
      "text/plain": [
       "0.2"
      ]
     },
     "execution_count": 3,
     "metadata": {},
     "output_type": "execute_result"
    }
   ],
   "source": [
    "# example 1\n",
    "\n",
    "def calculate_inverse(number):\n",
    "    assert (number != 0), 'Got 0 as number'\n",
    "    return 1/number\n",
    "\n",
    "calculate_inverse(5)\n",
    "\n",
    "# as you see, the code ran as it should"
   ]
  },
  {
   "cell_type": "code",
   "execution_count": 4,
   "id": "336f1179",
   "metadata": {},
   "outputs": [
    {
     "ename": "AssertionError",
     "evalue": "Got 0 as number",
     "output_type": "error",
     "traceback": [
      "\u001b[1;31m---------------------------------------------------------------------------\u001b[0m",
      "\u001b[1;31mAssertionError\u001b[0m                            Traceback (most recent call last)",
      "Cell \u001b[1;32mIn[4], line 7\u001b[0m\n\u001b[0;32m      4\u001b[0m     \u001b[38;5;28;01massert\u001b[39;00m (number \u001b[38;5;241m!=\u001b[39m \u001b[38;5;241m0\u001b[39m), \u001b[38;5;124m'\u001b[39m\u001b[38;5;124mGot 0 as number\u001b[39m\u001b[38;5;124m'\u001b[39m\n\u001b[0;32m      5\u001b[0m     \u001b[38;5;28;01mreturn\u001b[39;00m \u001b[38;5;241m1\u001b[39m\u001b[38;5;241m/\u001b[39mnumber\n\u001b[1;32m----> 7\u001b[0m \u001b[43mcalculate_inverse\u001b[49m\u001b[43m(\u001b[49m\u001b[38;5;241;43m0\u001b[39;49m\u001b[43m)\u001b[49m\n",
      "Cell \u001b[1;32mIn[4], line 4\u001b[0m, in \u001b[0;36mcalculate_inverse\u001b[1;34m(number)\u001b[0m\n\u001b[0;32m      3\u001b[0m \u001b[38;5;28;01mdef\u001b[39;00m \u001b[38;5;21mcalculate_inverse\u001b[39m(number):\n\u001b[1;32m----> 4\u001b[0m     \u001b[38;5;28;01massert\u001b[39;00m (number \u001b[38;5;241m!=\u001b[39m \u001b[38;5;241m0\u001b[39m), \u001b[38;5;124m'\u001b[39m\u001b[38;5;124mGot 0 as number\u001b[39m\u001b[38;5;124m'\u001b[39m\n\u001b[0;32m      5\u001b[0m     \u001b[38;5;28;01mreturn\u001b[39;00m \u001b[38;5;241m1\u001b[39m\u001b[38;5;241m/\u001b[39mnumber\n",
      "\u001b[1;31mAssertionError\u001b[0m: Got 0 as number"
     ]
    }
   ],
   "source": [
    "# example 2\n",
    "\n",
    "def calculate_inverse(number):\n",
    "    assert (number != 0), 'Got 0 as number'\n",
    "    return 1/number\n",
    "\n",
    "calculate_inverse(0)\n",
    "\n",
    "# AssertionError appears; it is always called when we use the keyword 'assert' and the condition within the parenthesis returns\n",
    "    # False, rather than True"
   ]
  },
  {
   "cell_type": "code",
   "execution_count": null,
   "id": "846f050c",
   "metadata": {},
   "outputs": [],
   "source": []
  }
 ],
 "metadata": {
  "kernelspec": {
   "display_name": "Python 3 (ipykernel)",
   "language": "python",
   "name": "python3"
  },
  "language_info": {
   "codemirror_mode": {
    "name": "ipython",
    "version": 3
   },
   "file_extension": ".py",
   "mimetype": "text/x-python",
   "name": "python",
   "nbconvert_exporter": "python",
   "pygments_lexer": "ipython3",
   "version": "3.10.9"
  }
 },
 "nbformat": 4,
 "nbformat_minor": 5
}
