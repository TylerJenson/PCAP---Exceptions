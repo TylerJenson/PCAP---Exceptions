{
 "cells": [
  {
   "cell_type": "code",
   "execution_count": 3,
   "id": "f16dfd9b",
   "metadata": {},
   "outputs": [],
   "source": [
    "# exception\n",
    "    # event which occurs during the execution of a program that disrupts the normal flow of the program instructions"
   ]
  },
  {
   "cell_type": "code",
   "execution_count": 4,
   "id": "6b2490e9",
   "metadata": {},
   "outputs": [
    {
     "name": "stdout",
     "output_type": "stream",
     "text": [
      "Enter an integer: a\n"
     ]
    },
    {
     "ename": "ValueError",
     "evalue": "invalid literal for int() with base 10: 'a'",
     "output_type": "error",
     "traceback": [
      "\u001b[1;31m---------------------------------------------------------------------------\u001b[0m",
      "\u001b[1;31mValueError\u001b[0m                                Traceback (most recent call last)",
      "Cell \u001b[1;32mIn[4], line 3\u001b[0m\n\u001b[0;32m      1\u001b[0m \u001b[38;5;66;03m# ValueError example\u001b[39;00m\n\u001b[1;32m----> 3\u001b[0m value \u001b[38;5;241m=\u001b[39m \u001b[38;5;28;43mint\u001b[39;49m\u001b[43m(\u001b[49m\u001b[38;5;28;43minput\u001b[39;49m\u001b[43m(\u001b[49m\u001b[38;5;124;43m'\u001b[39;49m\u001b[38;5;124;43mEnter an integer: \u001b[39;49m\u001b[38;5;124;43m'\u001b[39;49m\u001b[43m)\u001b[49m\u001b[43m)\u001b[49m\n\u001b[0;32m      4\u001b[0m \u001b[38;5;28mprint\u001b[39m(\u001b[38;5;124m'\u001b[39m\u001b[38;5;124mthe inverse of\u001b[39m\u001b[38;5;124m'\u001b[39m, value, \u001b[38;5;124m'\u001b[39m\u001b[38;5;124mis\u001b[39m\u001b[38;5;124m'\u001b[39m, \u001b[38;5;241m1\u001b[39m\u001b[38;5;241m/\u001b[39mvalue)\n",
      "\u001b[1;31mValueError\u001b[0m: invalid literal for int() with base 10: 'a'"
     ]
    }
   ],
   "source": [
    "# ValueError example\n",
    "\n",
    "value = int(input('Enter an integer: '))\n",
    "print('the inverse of', value, 'is', 1/value)\n",
    "\n",
    "# reason for error --> supplied a 'a' rather than an integer"
   ]
  },
  {
   "cell_type": "code",
   "execution_count": 2,
   "id": "39102b0d",
   "metadata": {},
   "outputs": [],
   "source": [
    "# try-except\n",
    "    # special structure that handles exceptions in a program"
   ]
  },
  {
   "cell_type": "code",
   "execution_count": 5,
   "id": "9a52b4d8",
   "metadata": {},
   "outputs": [
    {
     "name": "stdout",
     "output_type": "stream",
     "text": [
      "Enter an integer: a\n",
      "you did not provide a number\n"
     ]
    }
   ],
   "source": [
    "# try-except example\n",
    "    \n",
    "try:                                                  # the try block is where you place code that could raise an exception\n",
    "    value = int(input('Enter an integer: '))\n",
    "    print('the inverse of', value, 'is', 1/value)\n",
    "except:                                               # code that handles the exception; if no exception, this is not executed\n",
    "    print('you did not provide a number')\n",
    "    \n",
    "# output --> as you see, any exception within the try block will not terminate program execution as it did before\n",
    "    # this handles the 'ValueError'"
   ]
  },
  {
   "cell_type": "code",
   "execution_count": 6,
   "id": "3e7c56f6",
   "metadata": {},
   "outputs": [
    {
     "name": "stdout",
     "output_type": "stream",
     "text": [
      "Enter an integer: 0\n"
     ]
    },
    {
     "ename": "ZeroDivisionError",
     "evalue": "division by zero",
     "output_type": "error",
     "traceback": [
      "\u001b[1;31m---------------------------------------------------------------------------\u001b[0m",
      "\u001b[1;31mZeroDivisionError\u001b[0m                         Traceback (most recent call last)",
      "Cell \u001b[1;32mIn[6], line 4\u001b[0m\n\u001b[0;32m      1\u001b[0m \u001b[38;5;66;03m# error if you enter 0 as a number\u001b[39;00m\n\u001b[0;32m      3\u001b[0m value \u001b[38;5;241m=\u001b[39m \u001b[38;5;28mint\u001b[39m(\u001b[38;5;28minput\u001b[39m(\u001b[38;5;124m'\u001b[39m\u001b[38;5;124mEnter an integer: \u001b[39m\u001b[38;5;124m'\u001b[39m))\n\u001b[1;32m----> 4\u001b[0m \u001b[38;5;28mprint\u001b[39m(\u001b[38;5;124m'\u001b[39m\u001b[38;5;124mthe inverse of\u001b[39m\u001b[38;5;124m'\u001b[39m, value, \u001b[38;5;124m'\u001b[39m\u001b[38;5;124mis\u001b[39m\u001b[38;5;124m'\u001b[39m, \u001b[38;5;241;43m1\u001b[39;49m\u001b[38;5;241;43m/\u001b[39;49m\u001b[43mvalue\u001b[49m)\n",
      "\u001b[1;31mZeroDivisionError\u001b[0m: division by zero"
     ]
    }
   ],
   "source": [
    "# error if you enter 0 as a number\n",
    "\n",
    "value = int(input('Enter an integer: '))\n",
    "print('the inverse of', value, 'is', 1/value)\n",
    "\n",
    "# output -->  a new error is raised, ZeroDivisionError"
   ]
  },
  {
   "cell_type": "code",
   "execution_count": 7,
   "id": "f5b7286f",
   "metadata": {},
   "outputs": [
    {
     "name": "stdout",
     "output_type": "stream",
     "text": [
      "Enter an integer: 0\n",
      "you cannot divide by zero\n"
     ]
    }
   ],
   "source": [
    "# try-except --> handling ValueError & ZeroDivisionError\n",
    "\n",
    "try:                                                  \n",
    "    value = int(input('Enter an integer: '))\n",
    "    print('the inverse of', value, 'is', 1/value)\n",
    "except ValueError:                                               \n",
    "    print('you did not provide a number')\n",
    "except ZeroDivisionError:\n",
    "    print('you cannot divide by zero')\n",
    "    \n",
    "# only one branch can execute control, if one is execututed, all the other except branches remain unused\n",
    "# the number of except branches is unlimited, but you can only specify specific except branches once (ex. ValueError)"
   ]
  },
  {
   "cell_type": "code",
   "execution_count": null,
   "id": "49669220",
   "metadata": {},
   "outputs": [],
   "source": [
    "# try-except --> specific except blocks & general except block\n",
    "\n",
    "try:                                                  \n",
    "    value = int(input('Enter an integer: '))\n",
    "    print('the inverse of', value, 'is', 1/value)\n",
    "except ValueError:                                               \n",
    "    print('you did not provide a number')\n",
    "except ZeroDivisionError:\n",
    "    print('you cannot divide by zero')\n",
    "except:\n",
    "    print('not sure what to do here')\n",
    "    \n",
    "# how the block works --> if the ValueError is raised, the first block would be used, if the ZeroDivisionError is raised\n",
    "                        # the 2nd block is used. If any other exception is raised, then last block is used"
   ]
  }
 ],
 "metadata": {
  "kernelspec": {
   "display_name": "Python 3 (ipykernel)",
   "language": "python",
   "name": "python3"
  },
  "language_info": {
   "codemirror_mode": {
    "name": "ipython",
    "version": 3
   },
   "file_extension": ".py",
   "mimetype": "text/x-python",
   "name": "python",
   "nbconvert_exporter": "python",
   "pygments_lexer": "ipython3",
   "version": "3.10.9"
  }
 },
 "nbformat": 4,
 "nbformat_minor": 5
}
