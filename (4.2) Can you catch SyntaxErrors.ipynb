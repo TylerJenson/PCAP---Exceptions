{
 "cells": [
  {
   "cell_type": "code",
   "execution_count": 3,
   "id": "7a96937e",
   "metadata": {},
   "outputs": [],
   "source": [
    "# In the video with the introduction to exceptions,  \n",
    "# I've mentioned that you can use the default except block to catch any sort of exception\n",
    "\n",
    "try:\n",
    "  pass # your code\n",
    "except:\n",
    "  pass # any exception\n",
    "\n",
    "# However, there is one special exception type: SyntaxError. You should pay attention to how it works"
   ]
  },
  {
   "cell_type": "code",
   "execution_count": 4,
   "id": "f8489bff",
   "metadata": {},
   "outputs": [
    {
     "name": "stdout",
     "output_type": "stream",
     "text": [
      "Got it!\n"
     ]
    }
   ],
   "source": [
    "# If you raise a SyntaxError MANUALLY, then you CAN catch it in the except block just fine:\n",
    "\n",
    "try:\n",
    "  raise SyntaxError\n",
    "except:\n",
    "  print('Got it!') # SyntaxError is caught here"
   ]
  },
  {
   "cell_type": "code",
   "execution_count": 5,
   "id": "91baa104",
   "metadata": {},
   "outputs": [
    {
     "ename": "SyntaxError",
     "evalue": "illegal target for annotation (1462355547.py, line 5)",
     "output_type": "error",
     "traceback": [
      "\u001b[1;36m  Cell \u001b[1;32mIn[5], line 5\u001b[1;36m\u001b[0m\n\u001b[1;33m    5:4 # this line generates a SyntaxError\u001b[0m\n\u001b[1;37m    ^\u001b[0m\n\u001b[1;31mSyntaxError\u001b[0m\u001b[1;31m:\u001b[0m illegal target for annotation\n"
     ]
    }
   ],
   "source": [
    "# However, if you make a syntax error in the try block and Python AUTOMATICALLY raises a SyntaxError for you, \n",
    "# then you CANNOT catch it:\n",
    "\n",
    "try:\n",
    "  5:4 # this line generates a SyntaxError\n",
    "except:\n",
    "  print('Got it!') # SyntaxError is NOT caught here"
   ]
  },
  {
   "cell_type": "code",
   "execution_count": null,
   "id": "ea0c5f59",
   "metadata": {},
   "outputs": [],
   "source": []
  }
 ],
 "metadata": {
  "kernelspec": {
   "display_name": "Python 3 (ipykernel)",
   "language": "python",
   "name": "python3"
  },
  "language_info": {
   "codemirror_mode": {
    "name": "ipython",
    "version": 3
   },
   "file_extension": ".py",
   "mimetype": "text/x-python",
   "name": "python",
   "nbconvert_exporter": "python",
   "pygments_lexer": "ipython3",
   "version": "3.10.9"
  }
 },
 "nbformat": 4,
 "nbformat_minor": 5
}
