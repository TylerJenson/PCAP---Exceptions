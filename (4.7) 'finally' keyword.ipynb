{
 "cells": [
  {
   "cell_type": "code",
   "execution_count": 1,
   "id": "4ccf8431",
   "metadata": {},
   "outputs": [],
   "source": [
    "# 'finally' keyword\n",
    "    # used in try-except blocks\n",
    "    # must be the very last branch of the code intended to handling exceptions\n",
    "        # even after the 'else' block <--> they are not dependent on each other\n",
    "        \n",
    "    # general rule\n",
    "        # finally block is executed, always -- no matter if an exception is raised or not\n",
    "        \n",
    "    # real world\n",
    "        # normally used on databases or text files\n",
    "        # when we access data via a database, we open and close connections to it\n",
    "            # it's a good idea to close the connection to the database in the 'finally' block to clear up space   "
   ]
  },
  {
   "cell_type": "code",
   "execution_count": 2,
   "id": "886701a0",
   "metadata": {},
   "outputs": [],
   "source": [
    "# example (1 of 3)\n",
    "\n",
    "def get_inverse(x):\n",
    "    try:\n",
    "        return 1 / x\n",
    "    except ZeroDivisionError:\n",
    "        return None\n",
    "    finally:\n",
    "        print('i am always printed!')"
   ]
  },
  {
   "cell_type": "code",
   "execution_count": 3,
   "id": "e16d9d0a",
   "metadata": {},
   "outputs": [
    {
     "name": "stdout",
     "output_type": "stream",
     "text": [
      "i am always printed!\n",
      "0.2\n"
     ]
    }
   ],
   "source": [
    "# example (2 of 3)\n",
    "\n",
    "print(get_inverse(5))"
   ]
  },
  {
   "cell_type": "code",
   "execution_count": 4,
   "id": "93051064",
   "metadata": {},
   "outputs": [
    {
     "name": "stdout",
     "output_type": "stream",
     "text": [
      "i am always printed!\n",
      "None\n"
     ]
    }
   ],
   "source": [
    "# example (3 of 3)\n",
    "\n",
    "print(get_inverse(0))"
   ]
  },
  {
   "cell_type": "code",
   "execution_count": null,
   "id": "5555d710",
   "metadata": {},
   "outputs": [],
   "source": [
    "# notice that the 'finally' block is outputted first"
   ]
  }
 ],
 "metadata": {
  "kernelspec": {
   "display_name": "Python 3 (ipykernel)",
   "language": "python",
   "name": "python3"
  },
  "language_info": {
   "codemirror_mode": {
    "name": "ipython",
    "version": 3
   },
   "file_extension": ".py",
   "mimetype": "text/x-python",
   "name": "python",
   "nbconvert_exporter": "python",
   "pygments_lexer": "ipython3",
   "version": "3.10.9"
  }
 },
 "nbformat": 4,
 "nbformat_minor": 5
}
