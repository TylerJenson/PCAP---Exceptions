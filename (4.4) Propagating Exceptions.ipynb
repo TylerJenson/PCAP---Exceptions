{
 "cells": [
  {
   "cell_type": "code",
   "execution_count": 1,
   "id": "a44b3e57",
   "metadata": {},
   "outputs": [
    {
     "name": "stdout",
     "output_type": "stream",
     "text": [
      "Hi, i will collect some info about your bday\n",
      "what is the day of your bday? 22\n",
      "what is the month of your bday? a\n"
     ]
    },
    {
     "ename": "ValueError",
     "evalue": "invalid literal for int() with base 10: 'a'",
     "output_type": "error",
     "traceback": [
      "\u001b[1;31m---------------------------------------------------------------------------\u001b[0m",
      "\u001b[1;31mValueError\u001b[0m                                Traceback (most recent call last)",
      "Cell \u001b[1;32mIn[1], line 21\u001b[0m\n\u001b[0;32m     19\u001b[0m \u001b[38;5;28mprint\u001b[39m(\u001b[38;5;124m'\u001b[39m\u001b[38;5;124mHi, i will collect some info about your bday\u001b[39m\u001b[38;5;124m'\u001b[39m)\n\u001b[0;32m     20\u001b[0m user_info \u001b[38;5;241m=\u001b[39m []\n\u001b[1;32m---> 21\u001b[0m \u001b[43mget_user_bday\u001b[49m\u001b[43m(\u001b[49m\u001b[43muser_info\u001b[49m\u001b[43m)\u001b[49m\n",
      "Cell \u001b[1;32mIn[1], line 15\u001b[0m, in \u001b[0;36mget_user_bday\u001b[1;34m(user_info)\u001b[0m\n\u001b[0;32m     13\u001b[0m \u001b[38;5;28;01mdef\u001b[39;00m \u001b[38;5;21mget_user_bday\u001b[39m(user_info):\n\u001b[0;32m     14\u001b[0m     get_day(user_info)\n\u001b[1;32m---> 15\u001b[0m     \u001b[43mget_month\u001b[49m\u001b[43m(\u001b[49m\u001b[43muser_info\u001b[49m\u001b[43m)\u001b[49m\n\u001b[0;32m     16\u001b[0m     get_year(user_info)\n\u001b[0;32m     17\u001b[0m     \u001b[38;5;28mprint\u001b[39m(\u001b[38;5;124m'\u001b[39m\u001b[38;5;124mso your bday is\u001b[39m\u001b[38;5;124m'\u001b[39m, user_info)\n",
      "Cell \u001b[1;32mIn[1], line 6\u001b[0m, in \u001b[0;36mget_month\u001b[1;34m(user_info)\u001b[0m\n\u001b[0;32m      5\u001b[0m \u001b[38;5;28;01mdef\u001b[39;00m \u001b[38;5;21mget_month\u001b[39m(user_info):\n\u001b[1;32m----> 6\u001b[0m     month \u001b[38;5;241m=\u001b[39m \u001b[38;5;28;43mint\u001b[39;49m\u001b[43m(\u001b[49m\u001b[38;5;28;43minput\u001b[39;49m\u001b[43m(\u001b[49m\u001b[38;5;124;43m'\u001b[39;49m\u001b[38;5;124;43mwhat is the month of your bday? \u001b[39;49m\u001b[38;5;124;43m'\u001b[39;49m\u001b[43m)\u001b[49m\u001b[43m)\u001b[49m\n\u001b[0;32m      7\u001b[0m     user_info\u001b[38;5;241m.\u001b[39mappend(month)\n",
      "\u001b[1;31mValueError\u001b[0m: invalid literal for int() with base 10: 'a'"
     ]
    }
   ],
   "source": [
    "def get_day(user_info):\n",
    "    day = int(input('what is the day of your bday? '))\n",
    "    user_info.append(day)\n",
    "    \n",
    "def get_month(user_info):\n",
    "    month = int(input('what is the month of your bday? '))\n",
    "    user_info.append(month)\n",
    "    \n",
    "def get_year(user_info):\n",
    "    year = int(input('what is the year of your bday? '))\n",
    "    user_info.append(year)\n",
    "    \n",
    "def get_user_bday(user_info):\n",
    "    get_day(user_info)\n",
    "    get_month(user_info)\n",
    "    get_year(user_info)\n",
    "    print('so your bday is', user_info)\n",
    "    \n",
    "print('Hi, i will collect some info about your bday')\n",
    "user_info = []\n",
    "get_user_bday(user_info)"
   ]
  },
  {
   "cell_type": "code",
   "execution_count": 3,
   "id": "90602a7b",
   "metadata": {},
   "outputs": [
    {
     "name": "stdout",
     "output_type": "stream",
     "text": [
      "Hi, i will collect some info about your bday\n",
      "what is the day of your bday? 22\n",
      "what is the month (1-12) of your bday? 1\n",
      "what is the year of your bday? a\n",
      "you entered in wrong information, bye\n"
     ]
    }
   ],
   "source": [
    "def get_day(user_info):\n",
    "    day = int(input('what is the day of your bday? '))\n",
    "    user_info.append(day)\n",
    "    \n",
    "def get_month(user_info):\n",
    "    month = int(input('what is the month (1-12) of your bday? '))\n",
    "    user_info.append(month)\n",
    "    \n",
    "def get_year(user_info):\n",
    "    year = int(input('what is the year of your bday? '))\n",
    "    user_info.append(year)\n",
    "    \n",
    "def get_user_bday(user_info):\n",
    "    try:                                                # added in try-except branch\n",
    "        get_day(user_info)\n",
    "        get_month(user_info)\n",
    "        get_year(user_info)\n",
    "        print('so your bday is', user_info)\n",
    "    except:\n",
    "        print('you entered in wrong information, bye')\n",
    "    \n",
    "print('Hi, i will collect some info about your bday')\n",
    "user_info = []\n",
    "get_user_bday(user_info)\n",
    "\n",
    "\n",
    "# Explanation --> how is it possible that a single try-except statement in the 'get_user_bday' function handles all\n",
    "    # exceptions in the 'get_day', 'get_month', 'get_year'?\n",
    "    \n",
    "    # answer --> in Python, exceptions are propagated through functions\n",
    "        # example; if a function that raises an exception DOESN'T have a try-except block, that exception is propagated to the\n",
    "            # function that called it. If that function doesn't have a try-except block either, the exception is propagated\n",
    "            # again until there is finally a try-except block somewhere in the function call chain\n",
    "            \n",
    "            # if no try-except block can be found anywhere -- Python will simply show an error message"
   ]
  },
  {
   "cell_type": "code",
   "execution_count": null,
   "id": "7f483c08",
   "metadata": {},
   "outputs": [],
   "source": []
  }
 ],
 "metadata": {
  "kernelspec": {
   "display_name": "Python 3 (ipykernel)",
   "language": "python",
   "name": "python3"
  },
  "language_info": {
   "codemirror_mode": {
    "name": "ipython",
    "version": 3
   },
   "file_extension": ".py",
   "mimetype": "text/x-python",
   "name": "python",
   "nbconvert_exporter": "python",
   "pygments_lexer": "ipython3",
   "version": "3.10.9"
  }
 },
 "nbformat": 4,
 "nbformat_minor": 5
}
