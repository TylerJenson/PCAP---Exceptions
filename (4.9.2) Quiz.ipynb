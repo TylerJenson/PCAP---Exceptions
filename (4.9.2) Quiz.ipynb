{
 "cells": [
  {
   "cell_type": "code",
   "execution_count": 8,
   "id": "f75e4109",
   "metadata": {},
   "outputs": [
    {
     "name": "stdout",
     "output_type": "stream",
     "text": [
      "ex\n"
     ]
    }
   ],
   "source": [
    "# (1) What will be the output of the following code?\n",
    "\n",
    "def my_fun(x):\n",
    "  try:\n",
    "    return x / x\n",
    "  except:\n",
    "    print('ex')\n",
    " \n",
    "my_fun(1)\n",
    "my_fun(0)"
   ]
  },
  {
   "cell_type": "code",
   "execution_count": 9,
   "id": "b1787d63",
   "metadata": {},
   "outputs": [
    {
     "name": "stdout",
     "output_type": "stream",
     "text": [
      "1\n"
     ]
    }
   ],
   "source": [
    "# (2) What will be the output of the following code?\n",
    "\n",
    "try:\n",
    "  raise Exception(2)\n",
    "except Exception as e:\n",
    "  print(len(e.args))"
   ]
  },
  {
   "cell_type": "code",
   "execution_count": 10,
   "id": "a97fc7f9",
   "metadata": {},
   "outputs": [
    {
     "name": "stdout",
     "output_type": "stream",
     "text": [
      "wrong!\n"
     ]
    }
   ],
   "source": [
    "# (3) What will be the output of the following code?\n",
    "\n",
    "class MyEx(Exception):\n",
    "  def __init__(self, msg):\n",
    "    Exception.__init__(self, msg+msg)\n",
    "    self.args = (msg,)\n",
    " \n",
    "try:\n",
    "  raise MyEx('wrong!')\n",
    "except Exception as e:\n",
    "  print(e)"
   ]
  },
  {
   "cell_type": "code",
   "execution_count": 4,
   "id": "3741754f",
   "metadata": {},
   "outputs": [],
   "source": [
    "# (4) An exception defined by a user...\n",
    "\n",
    "# MAY be derived from the Exception class"
   ]
  },
  {
   "cell_type": "code",
   "execution_count": 12,
   "id": "be6c3be3",
   "metadata": {},
   "outputs": [
    {
     "name": "stdout",
     "output_type": "stream",
     "text": [
      "b\n",
      "c\n"
     ]
    }
   ],
   "source": [
    "# (5) What will be the output of the following code if x = 5?\n",
    "\n",
    "x = 5\n",
    "\n",
    "try:\n",
    "  x > 3\n",
    "except:\n",
    "  print(\"a\")\n",
    "else:\n",
    "  print(\"b\")\n",
    "finally:\n",
    "  print(\"c\") "
   ]
  },
  {
   "cell_type": "code",
   "execution_count": 13,
   "id": "e2549e6b",
   "metadata": {},
   "outputs": [
    {
     "name": "stdout",
     "output_type": "stream",
     "text": [
      "Provide a number: a\n",
      "b\n"
     ]
    }
   ],
   "source": [
    "# (6) What will be the output when the user enters the letter a?\n",
    "\n",
    "try:\n",
    "  val = int(input('Provide a number: '))\n",
    "  print(val/val)\n",
    "except TypeError:\n",
    "  print('a')\n",
    "except ValueError:\n",
    "  print('b')\n",
    "except ZeroDivisionError:\n",
    "  print('c')\n",
    "except:\n",
    "  print('d')"
   ]
  },
  {
   "cell_type": "code",
   "execution_count": 14,
   "id": "7735c6da",
   "metadata": {},
   "outputs": [
    {
     "name": "stdout",
     "output_type": "stream",
     "text": [
      "What is your value? 0\n"
     ]
    },
    {
     "ename": "ZeroDivisionError",
     "evalue": "division by zero",
     "output_type": "error",
     "traceback": [
      "\u001b[1;31m---------------------------------------------------------------------------\u001b[0m",
      "\u001b[1;31mZeroDivisionError\u001b[0m                         Traceback (most recent call last)",
      "Cell \u001b[1;32mIn[14], line 4\u001b[0m\n\u001b[0;32m      1\u001b[0m \u001b[38;5;66;03m# (7) What will be the output when the user enters 0?\u001b[39;00m\n\u001b[0;32m      3\u001b[0m user_input \u001b[38;5;241m=\u001b[39m \u001b[38;5;28mint\u001b[39m(\u001b[38;5;28minput\u001b[39m(\u001b[38;5;124m'\u001b[39m\u001b[38;5;124mWhat is your value? \u001b[39m\u001b[38;5;124m'\u001b[39m))\n\u001b[1;32m----> 4\u001b[0m \u001b[38;5;28mprint\u001b[39m(\u001b[38;5;241;43m1\u001b[39;49m\u001b[38;5;241;43m/\u001b[39;49m\u001b[43muser_input\u001b[49m)\n",
      "\u001b[1;31mZeroDivisionError\u001b[0m: division by zero"
     ]
    }
   ],
   "source": [
    "# (7) What will be the output when the user enters 0?\n",
    "\n",
    "user_input = int(input('What is your value? '))\n",
    "print(1/user_input)\n",
    "\n",
    "# ZeroDivisionError is raised"
   ]
  },
  {
   "cell_type": "code",
   "execution_count": 15,
   "id": "84507eef",
   "metadata": {},
   "outputs": [],
   "source": [
    "# (8) the assert statement....\n",
    "\n",
    "# should NOT be used in real-life, production-ready code"
   ]
  },
  {
   "cell_type": "code",
   "execution_count": null,
   "id": "c845a5e9",
   "metadata": {},
   "outputs": [],
   "source": []
  }
 ],
 "metadata": {
  "kernelspec": {
   "display_name": "Python 3 (ipykernel)",
   "language": "python",
   "name": "python3"
  },
  "language_info": {
   "codemirror_mode": {
    "name": "ipython",
    "version": 3
   },
   "file_extension": ".py",
   "mimetype": "text/x-python",
   "name": "python",
   "nbconvert_exporter": "python",
   "pygments_lexer": "ipython3",
   "version": "3.10.9"
  }
 },
 "nbformat": 4,
 "nbformat_minor": 5
}
