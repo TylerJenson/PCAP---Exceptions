{
 "cells": [
  {
   "cell_type": "code",
   "execution_count": null,
   "id": "f1bf29b7",
   "metadata": {},
   "outputs": [],
   "source": [
    "# try-except-else block\n",
    "\n",
    "    # rule\n",
    "        # 'else' block will be executed if no exception is raised in the 'try' block"
   ]
  },
  {
   "cell_type": "code",
   "execution_count": 1,
   "id": "bee9dd6a",
   "metadata": {},
   "outputs": [
    {
     "name": "stdout",
     "output_type": "stream",
     "text": [
      "enter an int: 0\n",
      "something went wrong\n"
     ]
    }
   ],
   "source": [
    "# try-except-else block example : input of 0\n",
    "\n",
    "try:\n",
    "    value = int(input('enter an int: '))\n",
    "    print(1/value)\n",
    "except:\n",
    "    print('something went wrong')\n",
    "else:\n",
    "    print('everything is perfect')"
   ]
  },
  {
   "cell_type": "code",
   "execution_count": 2,
   "id": "96870df5",
   "metadata": {},
   "outputs": [
    {
     "name": "stdout",
     "output_type": "stream",
     "text": [
      "enter an int: 1\n",
      "1.0\n",
      "everything is perfect\n"
     ]
    }
   ],
   "source": [
    "# try-except-else block example : input of 1\n",
    "\n",
    "try:\n",
    "    value = int(input('enter an int: '))\n",
    "    print(1/value)\n",
    "except:\n",
    "    print('something went wrong')\n",
    "else:\n",
    "    print('everything is perfect')"
   ]
  },
  {
   "cell_type": "code",
   "execution_count": null,
   "id": "a6fb1d74",
   "metadata": {},
   "outputs": [],
   "source": []
  }
 ],
 "metadata": {
  "kernelspec": {
   "display_name": "Python 3 (ipykernel)",
   "language": "python",
   "name": "python3"
  },
  "language_info": {
   "codemirror_mode": {
    "name": "ipython",
    "version": 3
   },
   "file_extension": ".py",
   "mimetype": "text/x-python",
   "name": "python",
   "nbconvert_exporter": "python",
   "pygments_lexer": "ipython3",
   "version": "3.10.9"
  }
 },
 "nbformat": 4,
 "nbformat_minor": 5
}
